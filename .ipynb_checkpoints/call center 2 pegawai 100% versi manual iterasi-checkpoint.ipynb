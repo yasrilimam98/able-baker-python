{
 "cells": [
  {
   "cell_type": "code",
   "execution_count": 2,
   "metadata": {},
   "outputs": [],
   "source": [
    "import random as rd\n",
    "import numpy as np\n",
    "import pandas as pd\n",
    "import csv\n",
    "iterasi = []\n",
    "head = ['CallNumber', 'Intter Arrival', 'Arrival Time', 'When Able Available', 'When Baker Available', 'Server Chosen','service Time','Time Service Begins','Service Completion Able','Service Completion Baker','Caller Delay','Time In Sistem']"
   ]
  },
  {
   "cell_type": "code",
   "execution_count": 12,
   "metadata": {},
   "outputs": [
    {
     "name": "stdout",
     "output_type": "stream",
     "text": [
      "[1, 0, 0, 0, 0, 'Able', 5, 0, 5, 0, 0, 5]\n",
      "[2, 5, 5, 5, 0, 'Baker', 6, 5, 5, 11, 0, 6]\n",
      "[3, 3, 8, 5, 11, 'Able', 2, 8, 10, 11, 0, 2]\n",
      "[4, 2, 10, 10, 11, 'Able', 5, 10, 15, 11, 0, 5]\n",
      "[5, 7, 17, 15, 11, 'Baker', 4, 17, 15, 21, 0, 4]\n",
      "[6, 5, 22, 15, 21, 'Able', 4, 22, 26, 21, 0, 4]\n",
      "[7, 4, 26, 26, 21, 'Baker', 6, 26, 26, 32, 0, 6]\n",
      "[8, 4, 30, 26, 32, 'Able', 5, 30, 35, 32, 0, 5]\n",
      "[9, 6, 36, 35, 32, 'Baker', 6, 36, 35, 42, 0, 6]\n",
      "[10, 3, 39, 35, 42, 'Able', 4, 39, 43, 42, 0, 4]\n",
      "[11, 6, 45, 43, 42, 'Baker', 4, 45, 43, 49, 0, 4]\n",
      "[12, 5, 50, 43, 49, 'Able', 4, 50, 54, 49, 0, 4]\n",
      "[13, 2, 52, 54, 49, 'Baker', 4, 52, 54, 56, 0, 4]\n",
      "[14, 1, 53, 54, 56, 'Able', 2, 54, 56, 56, 1, 3]\n",
      "[15, 2, 55, 56, 56, 'Able', 5, 56, 61, 56, 1, 6]\n",
      "[16, 2, 57, 61, 56, 'Baker', 4, 57, 61, 61, 0, 4]\n",
      "[17, 6, 63, 61, 61, 'Able', 2, 63, 65, 61, 0, 2]\n",
      "[18, 1, 64, 65, 61, 'Baker', 5, 64, 65, 69, 0, 5]\n",
      "[19, 2, 66, 65, 69, 'Able', 5, 66, 71, 69, 0, 5]\n",
      "[20, 6, 72, 71, 69, 'Baker', 6, 72, 71, 78, 0, 6]\n",
      "[21, 6, 78, 71, 78, 'Able', 4, 78, 82, 78, 0, 4]\n",
      "[22, 1, 79, 82, 78, 'Baker', 4, 79, 82, 83, 0, 4]\n",
      "[23, 6, 85, 82, 83, 'Able', 4, 85, 89, 83, 0, 4]\n",
      "[24, 5, 90, 89, 83, 'Baker', 5, 90, 89, 95, 0, 5]\n",
      "[25, 5, 95, 89, 95, 'Able', 4, 95, 99, 95, 0, 4]\n",
      "[26, 2, 97, 99, 95, 'Baker', 6, 97, 99, 103, 0, 6]\n",
      "[27, 1, 98, 99, 103, 'Able', 5, 99, 104, 103, 1, 6]\n",
      "[28, 5, 103, 104, 103, 'Baker', 4, 103, 104, 107, 0, 4]\n",
      "[29, 4, 107, 104, 107, 'Able', 2, 107, 109, 107, 0, 2]\n",
      "[30, 3, 110, 109, 107, 'Baker', 6, 110, 109, 116, 0, 6]\n",
      "[31, 4, 114, 109, 116, 'Able', 2, 114, 116, 116, 0, 2]\n",
      "[32, 1, 115, 116, 116, 'Able', 4, 116, 120, 116, 1, 5]\n",
      "[33, 1, 116, 120, 116, 'Baker', 3, 116, 120, 119, 0, 3]\n",
      "[34, 7, 123, 120, 119, 'Baker', 4, 123, 120, 127, 0, 4]\n",
      "[35, 2, 125, 120, 127, 'Able', 5, 125, 130, 127, 0, 5]\n",
      "[36, 1, 126, 130, 127, 'Baker', 6, 127, 130, 133, 1, 7]\n",
      "[37, 3, 129, 130, 133, 'Able', 5, 130, 135, 133, 1, 6]\n",
      "[38, 1, 130, 135, 133, 'Baker', 4, 133, 135, 137, 3, 7]\n",
      "[39, 6, 136, 135, 137, 'Able', 5, 136, 141, 137, 0, 5]\n",
      "[40, 3, 139, 141, 137, 'Baker', 5, 139, 141, 144, 0, 5]\n",
      "[41, 1, 140, 141, 144, 'Able', 5, 141, 146, 144, 1, 6]\n",
      "[42, 6, 146, 146, 144, 'Baker', 3, 146, 146, 149, 0, 3]\n",
      "[43, 4, 150, 146, 149, 'Able', 4, 150, 154, 149, 0, 4]\n",
      "[44, 7, 157, 154, 149, 'Baker', 3, 157, 154, 160, 0, 3]\n",
      "[45, 3, 160, 154, 160, 'Able', 5, 160, 165, 160, 0, 5]\n",
      "[46, 4, 164, 165, 160, 'Baker', 3, 164, 165, 167, 0, 3]\n",
      "[47, 2, 166, 165, 167, 'Able', 3, 166, 169, 167, 0, 3]\n",
      "[48, 3, 169, 169, 167, 'Baker', 4, 169, 169, 173, 0, 4]\n",
      "[49, 4, 173, 169, 173, 'Able', 5, 173, 178, 173, 0, 5]\n",
      "[50, 4, 177, 178, 173, 'Baker', 4, 177, 178, 181, 0, 4]\n",
      "[51, 6, 183, 178, 181, 'Able', 3, 183, 186, 181, 0, 3]\n",
      "[52, 4, 187, 186, 181, 'Baker', 6, 187, 186, 193, 0, 6]\n",
      "[53, 2, 189, 186, 193, 'Able', 3, 189, 192, 193, 0, 3]\n",
      "[54, 5, 194, 192, 193, 'Able', 4, 194, 198, 193, 0, 4]\n",
      "[55, 5, 199, 198, 193, 'Baker', 4, 199, 198, 203, 0, 4]\n",
      "[56, 3, 202, 198, 203, 'Able', 5, 202, 207, 203, 0, 5]\n",
      "[57, 1, 203, 207, 203, 'Baker', 4, 203, 207, 207, 0, 4]\n",
      "[58, 6, 209, 207, 207, 'Able', 3, 209, 212, 207, 0, 3]\n",
      "[59, 6, 215, 212, 207, 'Baker', 4, 215, 212, 219, 0, 4]\n",
      "[60, 7, 222, 212, 219, 'Able', 5, 222, 227, 219, 0, 5]\n",
      "[61, 7, 229, 227, 219, 'Baker', 5, 229, 227, 234, 0, 5]\n",
      "[62, 5, 234, 227, 234, 'Able', 3, 234, 237, 234, 0, 3]\n",
      "[63, 2, 236, 237, 234, 'Baker', 6, 236, 237, 242, 0, 6]\n",
      "[64, 5, 241, 237, 242, 'Able', 5, 241, 246, 242, 0, 5]\n",
      "[65, 4, 245, 246, 242, 'Baker', 4, 245, 246, 249, 0, 4]\n",
      "[66, 7, 252, 246, 249, 'Able', 3, 252, 255, 249, 0, 3]\n",
      "[67, 3, 255, 255, 249, 'Baker', 5, 255, 255, 260, 0, 5]\n",
      "[68, 1, 256, 255, 260, 'Able', 4, 256, 260, 260, 0, 4]\n",
      "[69, 7, 263, 260, 260, 'Able', 3, 263, 266, 260, 0, 3]\n",
      "[70, 4, 267, 266, 260, 'Baker', 4, 267, 266, 271, 0, 4]\n",
      "[71, 6, 273, 266, 271, 'Able', 4, 273, 277, 271, 0, 4]\n",
      "[72, 6, 279, 277, 271, 'Baker', 4, 279, 277, 283, 0, 4]\n",
      "[73, 2, 281, 277, 283, 'Able', 2, 281, 283, 283, 0, 2]\n",
      "[74, 4, 285, 283, 283, 'Able', 4, 285, 289, 283, 0, 4]\n",
      "[75, 5, 290, 289, 283, 'Baker', 5, 290, 289, 295, 0, 5]\n",
      "[76, 3, 293, 289, 295, 'Able', 5, 293, 298, 295, 0, 5]\n",
      "[77, 3, 296, 298, 295, 'Baker', 4, 296, 298, 300, 0, 4]\n",
      "[78, 1, 297, 298, 300, 'Able', 2, 298, 300, 300, 1, 3]\n",
      "[79, 1, 298, 300, 300, 'Able', 5, 300, 305, 300, 2, 7]\n",
      "[80, 3, 301, 305, 300, 'Baker', 6, 301, 305, 307, 0, 6]\n",
      "[81, 1, 302, 305, 307, 'Able', 2, 305, 307, 307, 3, 5]\n",
      "[82, 6, 308, 307, 307, 'Able', 4, 308, 312, 307, 0, 4]\n",
      "[83, 6, 314, 312, 307, 'Baker', 4, 314, 312, 318, 0, 4]\n",
      "[84, 6, 320, 312, 318, 'Able', 2, 320, 322, 318, 0, 2]\n",
      "[85, 7, 327, 322, 318, 'Baker', 3, 327, 322, 330, 0, 3]\n",
      "[86, 7, 334, 322, 330, 'Able', 5, 334, 339, 330, 0, 5]\n",
      "[87, 7, 341, 339, 330, 'Baker', 6, 341, 339, 347, 0, 6]\n",
      "[88, 2, 343, 339, 347, 'Able', 3, 343, 346, 347, 0, 3]\n",
      "[89, 7, 350, 346, 347, 'Able', 5, 350, 355, 347, 0, 5]\n",
      "[90, 3, 353, 355, 347, 'Baker', 3, 353, 355, 356, 0, 3]\n",
      "[91, 5, 358, 355, 356, 'Able', 3, 358, 361, 356, 0, 3]\n",
      "[92, 7, 365, 361, 356, 'Baker', 4, 365, 361, 369, 0, 4]\n",
      "[93, 5, 370, 361, 369, 'Able', 2, 370, 372, 369, 0, 2]\n",
      "[94, 4, 374, 372, 369, 'Baker', 4, 374, 372, 378, 0, 4]\n",
      "[95, 6, 380, 372, 378, 'Able', 5, 380, 385, 378, 0, 5]\n",
      "[96, 3, 383, 385, 378, 'Baker', 3, 383, 385, 386, 0, 3]\n",
      "[97, 4, 387, 385, 386, 'Able', 4, 387, 391, 386, 0, 4]\n",
      "[98, 7, 394, 391, 386, 'Baker', 5, 394, 391, 399, 0, 5]\n",
      "[99, 2, 396, 391, 399, 'Able', 3, 396, 399, 399, 0, 3]\n",
      "[100, 4, 400, 399, 399, 'Able', 4, 400, 404, 399, 0, 4]\n"
     ]
    }
   ],
   "source": [
    "    CallNumber = 0\n",
    "    intterArrival = [0]\n",
    "    arivalTime = [0]\n",
    "    WhenAbleAvailable = []\n",
    "    WhenBakerAvailable = []\n",
    "    ServerChosen = []\n",
    "    TServiceBegin = [0]\n",
    "    ServiceCompletionAble = []\n",
    "    ServiceCompletionBaker = []\n",
    "    CallerDelay = []\n",
    "    TimeInSistem = []\n",
    "    serviceTime = []\n",
    "    total = []\n",
    "    with open(\"out.csv\", \"w\", newline=\"\") as f:\n",
    "\n",
    "        for cc in range(10):\n",
    "            total.append([])\n",
    "            for i in range(10):\n",
    "                data=[]\n",
    "                CallNumber +=1\n",
    "\n",
    "            #   Customer -> data\n",
    "                data.append(CallNumber)\n",
    "            #   intterArrival Time -> data\n",
    "                data.append(intterArrival[-1])\n",
    "\n",
    "            #   get value Arrival Time\n",
    "                b=arivalTime[-1]+intterArrival[-1]\n",
    "            #   random\n",
    "                intterArrival.append(rd.randrange(1,8))\n",
    "\n",
    "            #   get value Arrival Time\n",
    "                arivalTime.append(b)\n",
    "            #   Arrival Time -> data\n",
    "                data.append(arivalTime[-1])\n",
    "\n",
    "            #   WhenAbleAvailable -> data\n",
    "                if(len(WhenAbleAvailable) > 1):\n",
    "                    if(ServiceCompletionAble[-1]-ServiceCompletionAble[-2]!=0):\n",
    "                        WhenAbleAvailable.append(ServiceCompletionAble[-1])\n",
    "                        data.append(WhenAbleAvailable[-1])\n",
    "                    else:\n",
    "                        WhenAbleAvailable.append(WhenAbleAvailable[-1])\n",
    "                        data.append(WhenAbleAvailable[-1])\n",
    "                elif(len(WhenAbleAvailable) == 1):\n",
    "                    WhenAbleAvailable.append(ServiceCompletionAble[-1]-WhenAbleAvailable[-1])\n",
    "                    data.append(WhenAbleAvailable[-1])\n",
    "                else:\n",
    "                    WhenAbleAvailable.append(0)\n",
    "                    data.append(WhenAbleAvailable[-1])\n",
    "\n",
    "             #   WhenAbleAvailable -> data   \n",
    "                if(len(WhenBakerAvailable) > 1):\n",
    "                    if(ServiceCompletionBaker[-1]-ServiceCompletionBaker[-2]!=0):\n",
    "                        WhenBakerAvailable.append(ServiceCompletionBaker[-1])\n",
    "                        data.append(WhenBakerAvailable[-1])\n",
    "                    else:\n",
    "                        WhenBakerAvailable.append(WhenBakerAvailable[-1])\n",
    "                        data.append(WhenBakerAvailable[-1])\n",
    "                elif(len(WhenBakerAvailable) == 1):\n",
    "                    WhenBakerAvailable.append(ServiceCompletionBaker[-1]-WhenBakerAvailable[-1])\n",
    "                    data.append(WhenBakerAvailable[-1])\n",
    "                else:\n",
    "                    WhenBakerAvailable.append(0)\n",
    "                    data.append(WhenBakerAvailable[-1])\n",
    "\n",
    "                if(WhenAbleAvailable[-1]-WhenBakerAvailable[-1]<=0):\n",
    "                    #  get value Service Time\n",
    "                    serviceTime.append(rd.randrange(2,6))\n",
    "                    #  get value ServerChosen\n",
    "                    ServerChosen.append('Able')\n",
    "                    #   ServerChosen -> data\n",
    "                    data.append(ServerChosen[-1])\n",
    "                    #   Service Time -> data\n",
    "                    data.append(serviceTime[-1])\n",
    "                else:\n",
    "                    #  get value Service Time\n",
    "                    serviceTime.append(rd.randrange(3,7))\n",
    "                    #  get value ServerChosen\n",
    "                    ServerChosen.append('Baker')\n",
    "                    #   ServerChosen -> data\n",
    "                    data.append(ServerChosen[-1])\n",
    "                    #   Service Time -> data\n",
    "                    data.append(serviceTime[-1])\n",
    "\n",
    "\n",
    "                #  get value CallerDelay && TServiceBegin\n",
    "                if(ServerChosen[-1]=='Able'):\n",
    "                    if(len(ServiceCompletionAble) != 0):\n",
    "                        if(ServiceCompletionAble[-1] - arivalTime[-1] <0):\n",
    "                            TServiceBegin.append(arivalTime[-1])\n",
    "                            CallerDelay.append(0)\n",
    "                        else:\n",
    "                            TServiceBegin.append(ServiceCompletionAble[-1])\n",
    "                            CallerDelay.append(ServiceCompletionAble[-1] - arivalTime[-1])\n",
    "                    else:\n",
    "                        if( 0 - arivalTime[-1] <0):\n",
    "                            TServiceBegin.append(arivalTime[-1])\n",
    "                            CallerDelay.append(0)\n",
    "                        else:\n",
    "                            TServiceBegin.append(0)\n",
    "                            CallerDelay.append(0)        \n",
    "                else:\n",
    "                    if(len(ServiceCompletionBaker) != 0):\n",
    "                        if(ServiceCompletionBaker[-1] - arivalTime[-1] <0):\n",
    "                            TServiceBegin.append(arivalTime[-1])\n",
    "                            CallerDelay.append(0)\n",
    "                        else:\n",
    "                            TServiceBegin.append(ServiceCompletionBaker[-1])\n",
    "                            CallerDelay.append(ServiceCompletionBaker[-1] - arivalTime[-1])\n",
    "                    else:\n",
    "                        if( 0 - arivalTime[-1] <0):\n",
    "                            TServiceBegin.append(arivalTime[-1])\n",
    "                            CallerDelay.append(0)\n",
    "                        else:\n",
    "                            TServiceBegin.append(0)\n",
    "                            CallerDelay.append(ServiceCompletionBaker[-1] - arivalTime[-1])\n",
    "\n",
    "            #   Time Sevice Begins -> data\n",
    "                data.append(TServiceBegin[-1])\n",
    "\n",
    "                if(len(TServiceBegin) != 0):\n",
    "                    c = serviceTime[-1]+TServiceBegin[-1]\n",
    "                else:\n",
    "                    c = serviceTime[-1]+0\n",
    "\n",
    "                #  get value ServiceCompletionBaker\n",
    "                if(ServerChosen[-1]=='Able'):    \n",
    "                    ServiceCompletionAble.append(c)\n",
    "                    if(len(ServiceCompletionBaker) != 0):\n",
    "                        ServiceCompletionBaker.append(ServiceCompletionBaker[-1])\n",
    "                    else:\n",
    "                        ServiceCompletionBaker.append(0)\n",
    "                    #   Service Completions -> data\n",
    "                    data.append(ServiceCompletionAble[-1])\n",
    "                    data.append(ServiceCompletionBaker[-1])\n",
    "                else:\n",
    "                    ServiceCompletionBaker.append(c)\n",
    "                    if(len(ServiceCompletionAble) != 0):\n",
    "                        ServiceCompletionAble.append(ServiceCompletionAble[-1])\n",
    "                    else:\n",
    "                        ServiceCompletionAble.append(0)\n",
    "                    #   Service Completions -> data\n",
    "                    data.append(ServiceCompletionAble[-1])\n",
    "                    data.append(ServiceCompletionBaker[-1])\n",
    "\n",
    "                #   Caller Delay -> data\n",
    "                data.append(CallerDelay[-1])\n",
    "\n",
    "            #   get value Time in Sistem \n",
    "                TimeInSistem.append(CallerDelay[-1]+serviceTime[-1])\n",
    "            #   Time in Sistem -> data\n",
    "                data.append(TimeInSistem[-1])\n",
    "\n",
    "                print(data)\n",
    "                total[cc].append(data)\n",
    "\n",
    "                writer = csv.writer(f)\n",
    "                writer.writerows(total[cc])\n",
    "            \n",
    "    iterasi.append(total)"
   ]
  },
  {
   "cell_type": "code",
   "execution_count": 13,
   "metadata": {},
   "outputs": [],
   "source": [
    "# run(jalankan) kodingan di atas dan ganti tempat penyimpanan file csv\n",
    "# lakukan sebanyak iterasi yg di inginkan"
   ]
  },
  {
   "cell_type": "code",
   "execution_count": null,
   "metadata": {},
   "outputs": [],
   "source": []
  },
  {
   "cell_type": "code",
   "execution_count": 14,
   "metadata": {},
   "outputs": [],
   "source": [
    "rowB = []\n",
    "rowC = []\n",
    "rowD = []\n",
    "rowE = []\n",
    "rowF = []\n",
    "rowG = []\n",
    "rowH = []\n",
    "rowI = []\n",
    "rowJ = []\n",
    "rowK = []"
   ]
  },
  {
   "cell_type": "code",
   "execution_count": 15,
   "metadata": {},
   "outputs": [],
   "source": [
    "for mn in range(10):\n",
    "    for la in range(10):\n",
    "        for po in range(10):\n",
    "            p = iterasi[mn][la][po][10]\n",
    "            if(mn == 0):rowB.append(p)\n",
    "            if(mn == 1):rowC.append(p)\n",
    "            if(mn == 2):rowD.append(p)\n",
    "            if(mn == 3):rowE.append(p)\n",
    "            if(mn == 4):rowF.append(p)\n",
    "            if(mn == 5):rowG.append(p)\n",
    "            if(mn == 6):rowH.append(p)\n",
    "            if(mn == 7):rowI.append(p)\n",
    "            if(mn == 8):rowJ.append(p)\n",
    "            if(mn == 9):rowK.append(p)"
   ]
  },
  {
   "cell_type": "code",
   "execution_count": 16,
   "metadata": {},
   "outputs": [],
   "source": [
    "import matplotlib.pyplot as plt\n",
    "import collections\n",
    "\n",
    "averagelist = []"
   ]
  },
  {
   "cell_type": "code",
   "execution_count": 17,
   "metadata": {},
   "outputs": [
    {
     "data": {
      "image/png": "[encoded data removed]",
      "text/plain": [
       "<Figure size 432x288 with 1 Axes>"
      ]
     },
     "metadata": {
      "needs_background": "light"
     },
     "output_type": "display_data"
    }
   ],
   "source": [
    "w = collections.Counter(rowB)\n",
    "plt.bar(w.keys(), w.values())\n",
    "plt.title('Iterasi 1 Caller Delay Time')\n",
    "\n",
    "averagelist.append(np.average(rowB))"
   ]
  },
  {
   "cell_type": "code",
   "execution_count": 18,
   "metadata": {},
   "outputs": [
    {
     "data": {
      "image/png": "[encoded data removed]",
      "text/plain": [
       "<Figure size 432x288 with 1 Axes>"
      ]
     },
     "metadata": {
      "needs_background": "light"
     },
     "output_type": "display_data"
    }
   ],
   "source": [
    "w = collections.Counter(rowC)\n",
    "plt.bar(w.keys(), w.values())\n",
    "plt.title('Iterasi 2 Caller Delay Time')\n",
    "\n",
    "averagelist.append(np.average(rowC))"
   ]
  },
  {
   "cell_type": "code",
   "execution_count": 19,
   "metadata": {},
   "outputs": [
    {
     "data": {
      "image/png": "[encoded data removed]",
      "text/plain": [
       "<Figure size 432x288 with 1 Axes>"
      ]
     },
     "metadata": {
      "needs_background": "light"
     },
     "output_type": "display_data"
    }
   ],
   "source": [
    "w = collections.Counter(rowD)\n",
    "plt.bar(w.keys(), w.values())\n",
    "plt.title('Iterasi 3 Caller Delay Time')\n",
    "\n",
    "averagelist.append(np.average(rowD))"
   ]
  },
  {
   "cell_type": "code",
   "execution_count": 20,
   "metadata": {},
   "outputs": [
    {
     "data": {
      "image/png": "[encoded data removed]",
      "text/plain": [
       "<Figure size 432x288 with 1 Axes>"
      ]
     },
     "metadata": {
      "needs_background": "light"
     },
     "output_type": "display_data"
    }
   ],
   "source": [
    "w = collections.Counter(rowE)\n",
    "plt.bar(w.keys(), w.values())\n",
    "plt.title('Iterasi 4 Caller Delay Time')\n",
    "\n",
    "averagelist.append(np.average(rowE))"
   ]
  },
  {
   "cell_type": "code",
   "execution_count": 21,
   "metadata": {},
   "outputs": [
    {
     "data": {
      "image/png": "[encoded data removed]",
      "text/plain": [
       "<Figure size 432x288 with 1 Axes>"
      ]
     },
     "metadata": {
      "needs_background": "light"
     },
     "output_type": "display_data"
    }
   ],
   "source": [
    "w = collections.Counter(rowF)\n",
    "plt.bar(w.keys(), w.values())\n",
    "plt.title('Iterasi 5 Caller Delay Time')\n",
    "\n",
    "averagelist.append(np.average(rowF))"
   ]
  },
  {
   "cell_type": "code",
   "execution_count": 22,
   "metadata": {},
   "outputs": [
    {
     "data": {
      "image/png": "[encoded data removed]",
      "text/plain": [
       "<Figure size 432x288 with 1 Axes>"
      ]
     },
     "metadata": {
      "needs_background": "light"
     },
     "output_type": "display_data"
    }
   ],
   "source": [
    "w = collections.Counter(rowG)\n",
    "plt.bar(w.keys(), w.values())\n",
    "plt.title('Iterasi 6 Caller Delay Time')\n",
    "\n",
    "averagelist.append(np.average(rowG))"
   ]
  },
  {
   "cell_type": "code",
   "execution_count": 23,
   "metadata": {},
   "outputs": [
    {
     "data": {
      "image/png": "[encoded data removed]",
      "text/plain": [
       "<Figure size 432x288 with 1 Axes>"
      ]
     },
     "metadata": {
      "needs_background": "light"
     },
     "output_type": "display_data"
    }
   ],
   "source": [
    "w = collections.Counter(rowH)\n",
    "plt.bar(w.keys(), w.values())\n",
    "plt.title('Iterasi 7 Caller Delay Time')\n",
    "\n",
    "averagelist.append(np.average(rowH))"
   ]
  },
  {
   "cell_type": "code",
   "execution_count": 24,
   "metadata": {},
   "outputs": [
    {
     "data": {
      "image/png": "[encoded data removed]",
      "text/plain": [
       "<Figure size 432x288 with 1 Axes>"
      ]
     },
     "metadata": {
      "needs_background": "light"
     },
     "output_type": "display_data"
    }
   ],
   "source": [
    "w = collections.Counter(rowI)\n",
    "plt.bar(w.keys(), w.values())\n",
    "plt.title('Iterasi 8 Caller Delay Time')\n",
    "\n",
    "averagelist.append(np.average(rowI))"
   ]
  },
  {
   "cell_type": "code",
   "execution_count": 25,
   "metadata": {},
   "outputs": [
    {
     "data": {
      "image/png": "[encoded data removed]",
      "text/plain": [
       "<Figure size 432x288 with 1 Axes>"
      ]
     },
     "metadata": {
      "needs_background": "light"
     },
     "output_type": "display_data"
    }
   ],
   "source": [
    "w = collections.Counter(rowJ)\n",
    "plt.bar(w.keys(), w.values())\n",
    "plt.title('Iterasi 9 Caller Delay Time')\n",
    "\n",
    "averagelist.append(np.average(rowJ))"
   ]
  },
  {
   "cell_type": "code",
   "execution_count": 26,
   "metadata": {},
   "outputs": [
    {
     "data": {
      "image/png": "[encoded data removed]",
      "text/plain": [
       "<Figure size 432x288 with 1 Axes>"
      ]
     },
     "metadata": {
      "needs_background": "light"
     },
     "output_type": "display_data"
    }
   ],
   "source": [
    "w = collections.Counter(rowK)\n",
    "plt.bar(w.keys(), w.values())\n",
    "plt.title('Iterasi 10 Caller Delay Time')\n",
    "\n",
    "averagelist.append(np.average(rowK))"
   ]
  },
  {
   "cell_type": "code",
   "execution_count": 27,
   "metadata": {},
   "outputs": [
    {
     "data": {
      "text/plain": [
       "[0.15, 0.23, 0.19, 0.09, 0.06, 0.03, 0.08, 0.11, 0.11, 0.16]"
      ]
     },
     "execution_count": 27,
     "metadata": {},
     "output_type": "execute_result"
    }
   ],
   "source": [
    "averagelist"
   ]
  },
  {
   "cell_type": "code",
   "execution_count": 28,
   "metadata": {},
   "outputs": [
    {
     "data": {
      "image/png": "[encoded data removed]",
      "text/plain": [
       "<Figure size 432x288 with 1 Axes>"
      ]
     },
     "metadata": {
      "needs_background": "light"
     },
     "output_type": "display_data"
    }
   ],
   "source": [
    "plt.hist(averagelist)\n",
    "plt.show()"
   ]
  },
  {
   "cell_type": "code",
   "execution_count": null,
   "metadata": {},
   "outputs": [],
   "source": []
  },
  {
   "cell_type": "code",
   "execution_count": null,
   "metadata": {},
   "outputs": [],
   "source": []
  }
 ],
 "metadata": {
  "kernelspec": {
   "display_name": "Python 3",
   "language": "python",
   "name": "python3"
  },
  "language_info": {
   "codemirror_mode": {
    "name": "ipython",
    "version": 3
   },
   "file_extension": ".py",
   "mimetype": "text/x-python",
   "name": "python",
   "nbconvert_exporter": "python",
   "pygments_lexer": "ipython3",
   "version": "3.7.4"
  }
 },
 "nbformat": 4,
 "nbformat_minor": 2
}
