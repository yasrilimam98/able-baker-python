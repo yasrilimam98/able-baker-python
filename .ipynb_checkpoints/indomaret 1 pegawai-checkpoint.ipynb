{
 "cells": [
  {
   "cell_type": "code",
   "execution_count": 2,
   "metadata": {},
   "outputs": [
    {
     "name": "stdout",
     "output_type": "stream",
     "text": [
      "[1, 0, 0, 1, 0, 0, 1, 1, 0]\n",
      "[2, 1, 1, 3, 1, 0, 3, 3, 0]\n",
      "[3, 2, 3, 5, 3, 0, 6, 5, 0]\n",
      "[4, 4, 7, 4, 7, 0, 7, 4, 1]\n",
      "[5, 1, 8, 5, 8, 0, 12, 5, 1]\n",
      "[6, 6, 14, 4, 14, 0, 12, 4, 2]\n",
      "[7, 1, 15, 1, 15, 0, 15, 1, 3]\n",
      "[8, 5, 20, 1, 20, 0, 16, 1, 5]\n",
      "[9, 5, 25, 1, 25, 0, 21, 1, 9]\n",
      "[10, 7, 32, 3, 32, 0, 28, 3, 11]\n",
      "[11, 1, 33, 5, 33, 0, 37, 5, 5]\n",
      "[12, 3, 36, 1, 37, 1, 34, 2, 0]\n",
      "[13, 4, 40, 3, 40, 0, 40, 3, 6]\n",
      "[14, 4, 44, 2, 44, 0, 42, 2, 4]\n",
      "[15, 5, 49, 4, 49, 0, 48, 4, 7]\n",
      "[16, 2, 51, 4, 51, 0, 53, 4, 3]\n",
      "[17, 4, 55, 3, 55, 0, 54, 3, 2]\n",
      "[18, 3, 58, 1, 58, 0, 56, 1, 4]\n",
      "[19, 4, 62, 2, 62, 0, 60, 2, 6]\n",
      "[20, 3, 65, 5, 65, 0, 67, 5, 5]\n",
      "[21, 4, 69, 5, 69, 0, 70, 5, 2]\n",
      "[22, 3, 72, 5, 72, 0, 74, 5, 2]\n",
      "[23, 3, 75, 5, 75, 0, 77, 5, 1]\n",
      "[24, 5, 80, 4, 80, 0, 79, 4, 3]\n",
      "[25, 6, 86, 1, 86, 0, 81, 1, 7]\n",
      "[26, 4, 90, 3, 90, 0, 89, 3, 9]\n",
      "[27, 2, 92, 5, 92, 0, 95, 5, 3]\n",
      "[28, 7, 99, 5, 99, 0, 97, 5, 4]\n",
      "[29, 5, 104, 1, 104, 0, 100, 1, 7]\n",
      "[30, 4, 108, 1, 108, 0, 105, 1, 8]\n",
      "[31, 4, 112, 4, 112, 0, 112, 4, 7]\n",
      "[32, 1, 113, 3, 113, 0, 115, 3, 1]\n",
      "[33, 5, 118, 3, 118, 0, 116, 3, 3]\n",
      "[34, 5, 123, 4, 123, 0, 122, 4, 7]\n",
      "[35, 7, 130, 1, 130, 0, 124, 1, 8]\n",
      "[36, 2, 132, 2, 132, 0, 132, 2, 8]\n",
      "[37, 7, 139, 3, 139, 0, 135, 3, 7]\n",
      "[38, 1, 140, 2, 140, 0, 141, 2, 5]\n",
      "[39, 2, 142, 3, 142, 0, 143, 3, 1]\n",
      "[40, 2, 144, 5, 144, 0, 147, 5, 1]\n",
      "[41, 2, 146, 5, 147, 1, 149, 6, 0]\n",
      "[42, 4, 150, 3, 150, 0, 150, 3, 1]\n",
      "[43, 1, 151, 4, 151, 0, 154, 4, 1]\n",
      "[44, 6, 157, 1, 157, 0, 152, 1, 3]\n",
      "[45, 5, 162, 4, 162, 0, 161, 4, 10]\n",
      "[46, 6, 168, 4, 168, 0, 166, 4, 7]\n",
      "[47, 6, 174, 2, 174, 0, 170, 2, 8]\n",
      "[48, 5, 179, 4, 179, 0, 178, 4, 9]\n",
      "[49, 4, 183, 2, 183, 0, 181, 2, 5]\n",
      "[50, 5, 188, 4, 188, 0, 187, 4, 7]\n",
      "[51, 5, 193, 5, 193, 0, 193, 5, 6]\n",
      "[52, 3, 196, 3, 196, 0, 196, 3, 3]\n",
      "[53, 4, 200, 2, 200, 0, 198, 2, 4]\n",
      "[54, 1, 201, 4, 201, 0, 204, 4, 3]\n",
      "[55, 3, 204, 5, 204, 0, 206, 5, 0]\n",
      "[56, 4, 208, 1, 208, 0, 205, 1, 2]\n",
      "[57, 7, 215, 3, 215, 0, 211, 3, 10]\n",
      "[58, 1, 216, 4, 216, 0, 219, 4, 5]\n",
      "[59, 4, 220, 2, 220, 0, 218, 2, 1]\n",
      "[60, 6, 226, 5, 226, 0, 225, 5, 8]\n",
      "[61, 3, 229, 4, 229, 0, 230, 4, 4]\n",
      "[62, 3, 232, 3, 232, 0, 232, 3, 2]\n",
      "[63, 5, 237, 4, 237, 0, 236, 4, 5]\n",
      "[64, 4, 241, 1, 241, 0, 238, 1, 5]\n",
      "[65, 5, 246, 1, 246, 0, 242, 1, 8]\n",
      "[66, 5, 251, 3, 251, 0, 249, 3, 9]\n",
      "[67, 3, 254, 1, 254, 0, 252, 1, 5]\n",
      "[68, 6, 260, 4, 260, 0, 258, 4, 8]\n",
      "[69, 3, 263, 5, 263, 0, 265, 5, 5]\n",
      "[70, 4, 267, 3, 267, 0, 266, 3, 2]\n",
      "[71, 7, 274, 5, 274, 0, 272, 5, 8]\n",
      "[72, 1, 275, 3, 275, 0, 277, 3, 3]\n",
      "[73, 5, 280, 1, 280, 0, 276, 1, 3]\n",
      "[74, 4, 284, 2, 284, 0, 282, 2, 8]\n",
      "[75, 6, 290, 1, 290, 0, 285, 1, 8]\n",
      "[76, 5, 295, 2, 295, 0, 292, 2, 10]\n",
      "[77, 7, 302, 1, 302, 0, 296, 1, 10]\n",
      "[78, 6, 308, 1, 308, 0, 303, 1, 12]\n",
      "[79, 5, 313, 1, 313, 0, 309, 1, 10]\n",
      "[80, 5, 318, 3, 318, 0, 316, 3, 9]\n",
      "[81, 1, 319, 4, 319, 0, 322, 4, 3]\n",
      "[82, 6, 325, 3, 325, 0, 322, 3, 3]\n",
      "[83, 2, 327, 2, 327, 0, 327, 2, 5]\n",
      "[84, 6, 333, 2, 333, 0, 329, 2, 6]\n",
      "[85, 2, 335, 1, 335, 0, 334, 1, 6]\n",
      "[86, 5, 340, 2, 340, 0, 337, 2, 6]\n",
      "[87, 6, 346, 5, 346, 0, 345, 5, 9]\n",
      "[88, 4, 350, 3, 350, 0, 349, 3, 5]\n",
      "[89, 2, 352, 4, 352, 0, 354, 4, 3]\n",
      "[90, 2, 354, 5, 354, 0, 357, 5, 0]\n",
      "[91, 3, 357, 1, 357, 0, 355, 1, 0]\n",
      "[92, 6, 363, 3, 363, 0, 360, 3, 8]\n",
      "[93, 7, 370, 5, 370, 0, 368, 5, 10]\n",
      "[94, 3, 373, 2, 373, 0, 372, 2, 5]\n",
      "[95, 2, 375, 5, 375, 0, 378, 5, 3]\n",
      "[96, 6, 381, 2, 381, 0, 377, 2, 3]\n",
      "[97, 4, 385, 2, 385, 0, 383, 2, 8]\n",
      "[98, 6, 391, 2, 391, 0, 387, 2, 8]\n",
      "[99, 7, 398, 2, 398, 0, 393, 2, 11]\n",
      "[100, 4, 402, 5, 402, 0, 403, 5, 9]\n"
     ]
    }
   ],
   "source": [
    "import random as rd\n",
    "import numpy as np\n",
    "customer = 0\n",
    "arivalTime = [0]\n",
    "intterArrival = [0]\n",
    "serviceTime = []\n",
    "TServiceBegin = []\n",
    "TServiceEnd = []\n",
    "WaitTimeInQueue = []\n",
    "TimeCusSpendInSistem = []\n",
    "IdleTimeOfServer = []\n",
    "\n",
    "total = []\n",
    "for iterasi in range(10):\n",
    "    total.append([])\n",
    "    for i in range(10):\n",
    "        data=[]\n",
    "        customer +=1\n",
    "\n",
    "    #   Customer -> data\n",
    "        data.append(customer)\n",
    "    #   intterArrival Time -> data\n",
    "        data.append(intterArrival[-1])\n",
    "\n",
    "    #   get value Arrival Time\n",
    "        b=arivalTime[-1]+intterArrival[-1]\n",
    "\n",
    "    #   random\n",
    "        intterArrival.append(rd.randrange(1,8))\n",
    "        serviceTime.append(rd.randrange(1,6))\n",
    "\n",
    "    #   Arrival Time -> data\n",
    "        arivalTime.append(b)\n",
    "        data.append(arivalTime[-1])\n",
    "\n",
    "    #   Service Time -> data\n",
    "        data.append(serviceTime[-1])\n",
    "\n",
    "    #   get value Time Sevice End\n",
    "        if(len(TServiceBegin) != 0):\n",
    "            c = serviceTime[-1]+TServiceBegin[-1]\n",
    "        else:\n",
    "            c = serviceTime[-1]+0\n",
    "\n",
    "    #   get value Time Sevice Begins\n",
    "        if(len(TServiceEnd) != 0):\n",
    "            if(TServiceEnd[-1] - arivalTime[-1] <0):\n",
    "                TServiceBegin.append(arivalTime[-1])\n",
    "            else:\n",
    "                TServiceBegin.append(TServiceEnd[-1])\n",
    "        else:\n",
    "            if( 0 - arivalTime[-1] <0):\n",
    "                TServiceBegin.append(arivalTime[-1])\n",
    "            else:\n",
    "                TServiceBegin.append(0)\n",
    "\n",
    "    #   Time Sevice Begins -> data\n",
    "        data.append(TServiceBegin[-1])\n",
    "\n",
    "    #   get value Waiting Time in Queue\n",
    "        if(len(TServiceEnd) != 0):\n",
    "            if(TServiceEnd[-1] - arivalTime[-1] <0):\n",
    "                WaitTimeInQueue.append(0)\n",
    "            else:\n",
    "                WaitTimeInQueue.append(TServiceEnd[-1] - arivalTime[-1])\n",
    "        else:\n",
    "            if( 0 - arivalTime[-1] < 0):\n",
    "                WaitTimeInQueue.append(0)\n",
    "            else:\n",
    "                WaitTimeInQueue.append(0 - arivalTime[-1])\n",
    "\n",
    "        TServiceEnd.append(c)\n",
    "\n",
    "    #   Waiting Time in Queue -> data\n",
    "        data.append(WaitTimeInQueue[-1])\n",
    "\n",
    "    #   Time Sevice End Time -> data\n",
    "        data.append(TServiceEnd[-1])\n",
    "\n",
    "    #   get value Time Customer Spends in Sistem\n",
    "        TimeCusSpendInSistem.append(WaitTimeInQueue[-1]+serviceTime[-1])\n",
    "\n",
    "    #   Time Customer Spends in Sistem -> data\n",
    "        data.append(TimeCusSpendInSistem[-1])\n",
    "\n",
    "    #   get value Idle Time of Server\n",
    "        if(len(IdleTimeOfServer) != 0):\n",
    "            IdleTimeOfServer.append(TServiceBegin[-1]-TServiceEnd[-2])\n",
    "        else:\n",
    "            IdleTimeOfServer.append(0)\n",
    "\n",
    "    #   Idle Time of Server -> data\n",
    "        data.append(IdleTimeOfServer[-1])\n",
    "\n",
    "        print(data)\n",
    "        total[iterasi].append(data)"
   ]
  },
  {
   "cell_type": "code",
   "execution_count": 100,
   "metadata": {},
   "outputs": [
    {
     "name": "stdout",
     "output_type": "stream",
     "text": [
      "[[[1, 0, 0, 4, 0, 0, 4, 4, 0], [2, 2, 2, 2, 4, 2, 2, 4, 0], [3, 4, 6, 5, 6, 0, 9, 5, 4], [4, 1, 7, 5, 9, 2, 11, 7, 0], [5, 7, 14, 1, 14, 0, 10, 1, 3], [6, 4, 18, 1, 18, 0, 15, 1, 8], [7, 1, 19, 2, 19, 0, 20, 2, 4], [8, 7, 26, 2, 26, 0, 21, 2, 6], [9, 4, 30, 5, 30, 0, 31, 5, 9], [10, 5, 35, 2, 35, 0, 32, 2, 4]], [[11, 1, 36, 3, 36, 0, 38, 3, 4], [12, 6, 42, 5, 42, 0, 41, 5, 4], [13, 1, 43, 4, 43, 0, 46, 4, 2], [14, 5, 48, 3, 48, 0, 46, 3, 2], [15, 5, 53, 1, 53, 0, 49, 1, 7], [16, 7, 60, 2, 60, 0, 55, 2, 11], [17, 6, 66, 2, 66, 0, 62, 2, 11], [18, 4, 70, 4, 70, 0, 70, 4, 8], [19, 6, 76, 5, 76, 0, 75, 5, 6], [20, 6, 82, 2, 82, 0, 78, 2, 7]], [[21, 2, 84, 3, 84, 0, 85, 3, 6], [22, 6, 90, 5, 90, 0, 89, 5, 5], [23, 7, 97, 2, 97, 0, 92, 2, 8], [24, 6, 103, 4, 103, 0, 101, 4, 11], [25, 5, 108, 2, 108, 0, 105, 2, 7], [26, 3, 111, 3, 111, 0, 111, 3, 6], [27, 3, 114, 4, 114, 0, 115, 4, 3], [28, 1, 115, 4, 115, 0, 118, 4, 0], [29, 7, 122, 1, 122, 0, 116, 1, 4], [30, 2, 124, 2, 124, 0, 124, 2, 8]], [[31, 1, 125, 2, 125, 0, 126, 2, 1], [32, 1, 126, 2, 126, 0, 127, 2, 0], [33, 3, 129, 4, 129, 0, 130, 4, 2], [34, 2, 131, 4, 131, 0, 133, 4, 1], [35, 5, 136, 4, 136, 0, 135, 4, 3], [36, 1, 137, 3, 137, 0, 139, 3, 2], [37, 4, 141, 4, 141, 0, 141, 4, 2], [38, 5, 146, 4, 146, 0, 145, 4, 5], [39, 7, 153, 1, 153, 0, 147, 1, 8], [40, 7, 160, 4, 160, 0, 157, 4, 13]], [[41, 5, 165, 4, 165, 0, 164, 4, 8], [42, 2, 167, 1, 167, 0, 166, 1, 3], [43, 6, 173, 3, 173, 0, 170, 3, 7], [44, 5, 178, 4, 178, 0, 177, 4, 8], [45, 6, 184, 1, 184, 0, 179, 1, 7], [46, 6, 190, 1, 190, 0, 185, 1, 11], [47, 2, 192, 3, 192, 0, 193, 3, 7], [48, 7, 199, 2, 199, 0, 194, 2, 6], [49, 2, 201, 2, 201, 0, 201, 2, 7], [50, 3, 204, 3, 204, 0, 204, 3, 3]], [[51, 4, 208, 1, 208, 0, 205, 1, 4], [52, 4, 212, 4, 212, 0, 212, 4, 7], [53, 5, 217, 4, 217, 0, 216, 4, 5], [54, 2, 219, 1, 219, 0, 218, 1, 3], [55, 4, 223, 2, 223, 0, 221, 2, 5], [56, 5, 228, 1, 228, 0, 224, 1, 7], [57, 4, 232, 3, 232, 0, 231, 3, 8], [58, 5, 237, 5, 237, 0, 237, 5, 6], [59, 2, 239, 4, 239, 0, 241, 4, 2], [60, 4, 243, 4, 243, 0, 243, 4, 2]], [[61, 1, 244, 1, 244, 0, 244, 1, 1], [62, 2, 246, 5, 246, 0, 249, 5, 2], [63, 7, 253, 2, 253, 0, 248, 2, 4], [64, 6, 259, 4, 259, 0, 257, 4, 11], [65, 6, 265, 3, 265, 0, 262, 3, 8], [66, 5, 270, 5, 270, 0, 270, 5, 8], [67, 3, 273, 4, 273, 0, 274, 4, 3], [68, 1, 274, 2, 274, 0, 275, 2, 0], [69, 5, 279, 5, 279, 0, 279, 5, 4], [70, 3, 282, 5, 282, 0, 284, 5, 3]], [[71, 3, 285, 3, 285, 0, 285, 3, 1], [72, 5, 290, 5, 290, 0, 290, 5, 5], [73, 4, 294, 4, 294, 0, 294, 4, 4], [74, 1, 295, 5, 295, 0, 299, 5, 1], [75, 3, 298, 4, 299, 1, 299, 5, 0], [76, 1, 299, 4, 299, 0, 303, 4, 0], [77, 1, 300, 2, 303, 3, 301, 5, 0], [78, 5, 305, 2, 305, 0, 305, 2, 4], [79, 1, 306, 4, 306, 0, 309, 4, 1], [80, 1, 307, 3, 309, 2, 309, 5, 0]], [[81, 2, 309, 4, 309, 0, 313, 4, 0], [82, 1, 310, 2, 313, 3, 311, 5, 0], [83, 6, 316, 4, 316, 0, 317, 4, 5], [84, 7, 323, 3, 323, 0, 319, 3, 6], [85, 5, 328, 2, 328, 0, 325, 2, 9], [86, 6, 334, 2, 334, 0, 330, 2, 9], [87, 6, 340, 2, 340, 0, 336, 2, 10], [88, 1, 341, 3, 341, 0, 343, 3, 5], [89, 4, 345, 4, 345, 0, 345, 4, 2], [90, 3, 348, 3, 348, 0, 348, 3, 3]], [[91, 6, 354, 5, 354, 0, 353, 5, 6], [92, 5, 359, 5, 359, 0, 359, 5, 6], [93, 5, 364, 4, 364, 0, 363, 4, 5], [94, 4, 368, 2, 368, 0, 366, 2, 5], [95, 6, 374, 4, 374, 0, 372, 4, 8], [96, 2, 376, 2, 376, 0, 376, 2, 4], [97, 7, 383, 4, 383, 0, 380, 4, 7], [98, 7, 390, 2, 390, 0, 385, 2, 10], [99, 4, 394, 5, 394, 0, 395, 5, 9], [100, 3, 397, 1, 397, 0, 395, 1, 2]]]\n"
     ]
    }
   ],
   "source": [
    "print(total)    "
   ]
  },
  {
   "cell_type": "code",
   "execution_count": 101,
   "metadata": {},
   "outputs": [
    {
     "name": "stdout",
     "output_type": "stream",
     "text": [
      "[5, 7, 14, 1, 14, 0, 10, 1, 3]\n"
     ]
    }
   ],
   "source": [
    "print(total[0][4])"
   ]
  },
  {
   "cell_type": "code",
   "execution_count": 102,
   "metadata": {},
   "outputs": [
    {
     "name": "stdout",
     "output_type": "stream",
     "text": [
      "1\n"
     ]
    }
   ],
   "source": [
    "print(total[0][4][3])"
   ]
  },
  {
   "cell_type": "code",
   "execution_count": 103,
   "metadata": {},
   "outputs": [
    {
     "name": "stdout",
     "output_type": "stream",
     "text": [
      "[0, 0, 4, 0, 3, 8, 4, 6, 9, 4, 4, 4, 2, 2, 7, 11, 11, 8, 6, 7, 6, 5, 8, 11, 7, 6, 3, 0, 4, 8, 1, 0, 2, 1, 3, 2, 2, 5, 8, 13, 8, 3, 7, 8, 7, 11, 7, 6, 7, 3, 4, 7, 5, 3, 5, 7, 8, 6, 2, 2, 1, 2, 4, 11, 8, 8, 3, 0, 4, 3, 1, 5, 4, 1, 0, 0, 0, 4, 1, 0, 0, 0, 5, 6, 9, 9, 10, 5, 2, 3, 6, 6, 5, 5, 8, 4, 7, 10, 9, 2]\n"
     ]
    }
   ],
   "source": [
    "rowB = []\n",
    "rowC = []\n",
    "rowD = []\n",
    "rowE = []\n",
    "rowF = []\n",
    "rowG = []\n",
    "rowH = []\n",
    "rowI = []\n",
    "for mn in range(8):\n",
    "    for la in range(10):\n",
    "        for po in range(10):\n",
    "            p = total[la][po][mn+1]\n",
    "            if(mn == 0):rowB.append(p)\n",
    "            if(mn == 1):rowC.append(p)\n",
    "            if(mn == 2):rowD.append(p)\n",
    "            if(mn == 3):rowE.append(p)\n",
    "            if(mn == 4):rowF.append(p)\n",
    "            if(mn == 5):rowG.append(p)\n",
    "            if(mn == 6):rowH.append(p)\n",
    "            if(mn == 7):rowI.append(p)\n",
    "                \n",
    "print(rowI)"
   ]
  },
  {
   "cell_type": "code",
   "execution_count": 104,
   "metadata": {},
   "outputs": [
    {
     "data": {
      "text/plain": [
       "Text(0.5, 1.0, 'Intterarival Time')"
      ]
     },
     "execution_count": 104,
     "metadata": {},
     "output_type": "execute_result"
    },
    {
     "data": {
      "image/png": "[encoded data removed]",
      "text/plain": [
       "<Figure size 432x288 with 1 Axes>"
      ]
     },
     "metadata": {
      "needs_background": "light"
     },
     "output_type": "display_data"
    }
   ],
   "source": [
    "import matplotlib.pyplot as plt\n",
    "import collections\n",
    "\n",
    "# plt.subplot(2, 1, 1)\n",
    "w = collections.Counter(rowB)\n",
    "plt.bar(w.keys(), w.values())\n",
    "plt.title('Intterarival Time')"
   ]
  },
  {
   "cell_type": "code",
   "execution_count": 105,
   "metadata": {},
   "outputs": [
    {
     "data": {
      "text/plain": [
       "Text(0.5, 1.0, 'Service Time')"
      ]
     },
     "execution_count": 105,
     "metadata": {},
     "output_type": "execute_result"
    },
    {
     "data": {
      "image/png": "[encoded data removed]",
      "text/plain": [
       "<Figure size 432x288 with 1 Axes>"
      ]
     },
     "metadata": {
      "needs_background": "light"
     },
     "output_type": "display_data"
    }
   ],
   "source": [
    "w2 = collections.Counter(rowD)\n",
    "plt.bar(w2.keys(), w2.values())\n",
    "plt.title('Service Time')"
   ]
  },
  {
   "cell_type": "code",
   "execution_count": 106,
   "metadata": {},
   "outputs": [
    {
     "data": {
      "text/plain": [
       "Text(0.5, 1.0, 'Waiting Time in Queue')"
      ]
     },
     "execution_count": 106,
     "metadata": {},
     "output_type": "execute_result"
    },
    {
     "data": {
      "image/png": "[encoded data removed]",
      "text/plain": [
       "<Figure size 432x288 with 1 Axes>"
      ]
     },
     "metadata": {
      "needs_background": "light"
     },
     "output_type": "display_data"
    }
   ],
   "source": [
    "\n",
    "w3 = collections.Counter(rowF)\n",
    "plt.bar(w3.keys(), w3.values())\n",
    "plt.title('Waiting Time in Queue')"
   ]
  },
  {
   "cell_type": "code",
   "execution_count": 107,
   "metadata": {},
   "outputs": [
    {
     "data": {
      "text/plain": [
       "Text(0.5, 1.0, 'Time Customer Spends in Sistem ')"
      ]
     },
     "execution_count": 107,
     "metadata": {},
     "output_type": "execute_result"
    },
    {
     "data": {
      "image/png": "[encoded data removed]",
      "text/plain": [
       "<Figure size 432x288 with 1 Axes>"
      ]
     },
     "metadata": {
      "needs_background": "light"
     },
     "output_type": "display_data"
    }
   ],
   "source": [
    "w4 = collections.Counter(rowH)\n",
    "plt.bar(w4.keys(), w4.values())\n",
    "plt.title('Time Customer Spends in Sistem ')"
   ]
  },
  {
   "cell_type": "code",
   "execution_count": 108,
   "metadata": {},
   "outputs": [
    {
     "data": {
      "text/plain": [
       "Text(0.5, 1.0, 'Idle Time of Server')"
      ]
     },
     "execution_count": 108,
     "metadata": {},
     "output_type": "execute_result"
    },
    {
     "data": {
      "image/png": "[encoded data removed]",
      "text/plain": [
       "<Figure size 432x288 with 1 Axes>"
      ]
     },
     "metadata": {
      "needs_background": "light"
     },
     "output_type": "display_data"
    }
   ],
   "source": [
    "\n",
    "w5 = collections.Counter(rowI)\n",
    "plt.bar(w5.keys(), w5.values())\n",
    "plt.title('Idle Time of Server')"
   ]
  },
  {
   "cell_type": "code",
   "execution_count": null,
   "metadata": {},
   "outputs": [],
   "source": []
  }
 ],
 "metadata": {
  "kernelspec": {
   "display_name": "Python 3",
   "language": "python",
   "name": "python3"
  },
  "language_info": {
   "codemirror_mode": {
    "name": "ipython",
    "version": 3
   },
   "file_extension": ".py",
   "mimetype": "text/x-python",
   "name": "python",
   "nbconvert_exporter": "python",
   "pygments_lexer": "ipython3",
   "version": "3.7.4"
  }
 },
 "nbformat": 4,
 "nbformat_minor": 2
}
